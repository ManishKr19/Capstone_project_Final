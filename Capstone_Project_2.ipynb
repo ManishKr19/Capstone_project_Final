{
    "cells": [
        {
            "cell_type": "markdown",
            "metadata": {
                "collapsed": true
            },
            "source": "# Coursera Capstone Project\n#### The Battle of Neighborhoods - Final Report\n#### MANISH KUMAR"
        },
        {
            "cell_type": "markdown",
            "metadata": {},
            "source": "### Upload Libraries Required"
        },
        {
            "cell_type": "code",
            "execution_count": null,
            "metadata": {},
            "outputs": [],
            "source": "import numpy as np # library to handle data in a vectorized manner\nimport time\nimport pandas as pd # library for data analsysis\npd.set_option('display.max_columns', None)\npd.set_option('display.max_rows', None)\n\nimport json # library to handle JSON files\nimport requests # library to handle requests\nfrom pandas.io.json import json_normalize # tranform JSON file into a pandas dataframe\n\n\n!conda install -c conda-forge geopy --yes # uncomment this line if you haven't completed the Foursquare API lab\nfrom geopy.geocoders import Nominatim # convert an address into latitude and longitude values\n\n!conda install -c conda-forge folium=0.5.0 --yes # uncomment this line if you haven't completed the Foursquare API lab\nimport folium # map rendering library\nimport folium # map rendering library\nfrom folium import plugins\n\n# Matplotlib and associated plotting modules\nimport matplotlib.cm as cm\nimport matplotlib.colors as colors\n\nimport seaborn as sns\n\n# import k-means from clustering stage\nfrom sklearn.cluster import KMeans\n\nprint('Libraries imported.')"
        },
        {
            "cell_type": "markdown",
            "metadata": {},
            "source": "## Coursera Capstone - REPORT"
        },
        {
            "cell_type": "markdown",
            "metadata": {},
            "source": "### Content\n#### Introduction Section :\n\n    > Discussion of the \"backgroung situation\" leading to the problem at hand:\n\n    > Problem to be resolved\n\n    > Audience for this project.\n\n#### Data Section:\n\n    > Data of Current Situation (current residence place)\n\n    > Data required to resolve the problem\n\n    > Data sources and data manipulation\n\n#### Methodology section :\n\n    > Process steps and strategy to resolve the problem\n\n    > Data Science Methods, machine learing, mapping tools and exploratory data analysis.\n\n#### Results section\n\n    > Discussion of the results and how they help to take a decision.\n\n#### Discussion section\n\n    > Elaboration and discussion on any observations and/or recommendations for improvement.\n\n#### Conclusion section\n\n    > Desicison taken and Report Conclusion."
        },
        {
            "cell_type": "markdown",
            "metadata": {},
            "source": "## 1. Introduction Section :\n##### Discussion of the business problem and the audience who would be interested in this project.\n#### 1.1 Scenario and Background\nI am a knowledge individual presently residing in Downtown Singapore. I presently live inside walking distance to Downtown \"Telok Ayer MRT underground station\" so I even have access to smart public transportation to figure. Likewise, I fancy several amenities within the neighborhood, like international preparation restaurants, cafes, food shops, and recreation. I have been offered a good chance to figure in Manhattan, NY. though i'm terribly excited concerning it, i'm a small amount stress toward the method to secure a comparable place to measure in Manhattan. Therefore, call} to use the learned skills throughout the Coursera course to explore ways that to form certain my decision is factual and appreciated. Of course, there square measure alternatives to attain the solution exploitation on the market Google and Social media tools, however it appreciated doing it myself with learned tools.\n\n#### 1.2 Problem to be resolved:\nThe challenge to resolve is having the ability to search out a rental lodging unit in Manhattan Empire State that provides similar characteristics and advantages to my current scenario. Therefore, so as to line a basis for comparison, i would like to search out a rental unit subject to the subsequent conditions:\n\nlodging with min a pair of bedrooms with monthly rent to not exceed US$7000/month\nUnit situated inside walking distance (<=1.0 mile, 1.6 km) from a subway railway line station in Manhattan\nthe realm with amenities and venues like those delineated for current location(See item a pair of.1)\n\n#### 1.3 Interested Audience:\nI believe this can be a relevant project for someone or entity considering moving to a serious town in Europe, the United States or Asia since the approach and methodologies used here area unit applicable all told cases. the utilization of FourSquare information and mapping techniques combined with information analysis can facilitate resolve the key queries arisen. Lastly, this project could be a smart follow case toward the event of knowledge Science skills.\n"
        },
        {
            "cell_type": "markdown",
            "metadata": {},
            "source": "\n## 2. Data Section:\n##### Description of the data and its sources that will be used to solve the problem\n#### 2.1 Data of Current Situation\nI presently reside within the neighborhood of 'Mccallum Street' in Downtown Singapore. I use Foursquare to spot the venues round the space of residence that square measure then shown within the Singapore map shown in methodology and execution in section three.0. It is a reference for comparison with the required future location in Manhattan American state\n\n#### 2.2 Data Required to resolve the problem\nIn order to form a decent selection of an identical lodging in Manhattan New York State, the subsequent knowledge is required: List/Information on neighborhoods from Manhattan with their Geodata ( latitude and meridian. List/Information regarding the subway underground stations in Manhattan with geodata. Listed residences for rent in Manhattan space with descriptions ( what percentage beds, price, location, address) Venues and amenities within the Manhattan neighborhoods (e.g. top 10). \n#### 2.3 sources and manipulation \nThe list of Manhattan neighborhoods is discovered throughout the science laboratory exercise throughout the course. A CSV file was created which is able to be browse so as to make an information frame and its mapping. The CSV file 'mh_neigh_data.csv' has the subsequent organization. The file are going to be directly browse to the Jupiter Notebook for convenience and area savings. The cluster of neighborhoods and mapping are going to be shown, however. associate rule was accustomed confirm the geodata from Nominatim. the particular rule cryptography could also be shown in 'markdown' mode as a result of it takes time to run.\n\nmh_neigh_data.tail():\n\n          Borough    Neighborhood    Latitude    Longitude\n\n      35    Manhattan    Turtle Bay    40.752042    -73.967708\n\n      36    Manhattan    Tudor City    40.746917    -73.971219\n\n      37    Manhattan    Stuyvesant Town    40.731000    -73.974052\n\n      38    Manhattan    Flatiron    40.739673    -73.990947\n\n      39    Manhattan    Hudson Yards    40.756658    -74.000111\n\nA list of Manhattan subway railway stops complied with Numbers (Apple excel) and it had been completed with Wikipedia information ( https://en.wikipedia.org/wiki/List_of_New_York_City_Subway_stations_in_Manhattan) and data from New York Transit authority and Google maps (https://www.google.com/maps/search/manhattan+subway+metro+stations/@40.7837297,-74.1033043,11z/data=!3m1!4b1) for a final consolidated list of subway stop names and their address. The geolocation was obtained via Associate in Nursing algorithmic rule exploitation Nominatim. Details are shown within the execution of the methodology in section three.0. The subway CSV file is ''MH_subway.csv'\" and therefore the organization is: mhsub.tail():\n\n           sub_station                    sub_address                         lat        long\n\n  17    190 Street Subway Station    Bennett Ave, New York, NY 10040, USA    40.858113    -73.932983\n\n  18    59 St-Lexington Av Station    E 60th St, New York, NY 10065, USA        40.762259    -73.966271\n\n  19    57 Street Station    New York, NY 10019, United States                40.764250    -73.954525\n\n  20    14 Street / 8 Av    New York, NY 10014, United States                40.730862    -73.987156\n\n  21    MTA New York City    525 11th Ave, New York, NY 10018, USA            40.759809    -73.999282\n\nA list of places for rent was collected by web-browsing real estate companies in Manhattan:\n\nhttp://www.rentmanhattan.com/index.cfm?page=search&state=results https://www.nestpick.com/search?city=new-york&page=1&order=relevance&district=manhattan&gclid=CjwKCAiAjNjgBRAgEiwAGLlf2hkP3A-\ncPxjZYkURqQEswQK2jKQEpv_MvKcrIhRWRzNkc_r-fGi0lxoCA7cQAvD_BwE&type=apartment&display=list https://www.realtor.com/apartments/Manhattan_NY\n\nA CSV file was compiled with the rental place that indicated: areas of Manhattan, address, number of beds, area and monthly rental price. The CSV file \"nnnn.csv\" had the following below structure. An algorithm was used to create all the geodata using Nominatim, as shown in section 3.0. The actual algorithm coding may be shown in 'markdown' mode because it takes time to run. With the use of geolocator = Nominatim(), it was possible to determine the latitude and longitude for the subway metro locations as well as for the geodata for each rental place listed. The loop algorithms used are shown in the execution of data in section 3.0\n\n\"Great_circle\" function from geolocator was used to calculate distances between two points, as in the case to calculate average rent price for units around each subway station and at 1.6 km radius. Foursquare is used to find the avenues at Manhattan neighborhoods in general and a cluster is created to later be able to search for the venues depending on the location shown.\n\n#### 2.4 How the data will be used to solve the problem\nThe data are going to be used as follows:\n\nUse Foursquare and geopy information to map the highest ten venues for all Manhattan neighborhoods and clustered in teams ( as per Course LAB).\n\nUse foursquare and geopy information to map the placement of subway subway stations, individually and on high of the above-clustered map so as to be able to determine the venues and amenities close to every subway station, or explore every subway location individually.\n\nUse Foursquare and geopy information to map the placement of rental places, in some type, connected to the subway locations.\n\ncreate a map that depicts, as an example, the typical rental value per sq. foot, around a radius of one.0 mile (1.6 km) around every depot - or similar metrics. {i will|i will be able to|i'll} be able to quickly purpose to the popups to understand the relative value per subway space.\n\nAddresses from rental locations are going to be reborn to geodata( striated muscle, long) victimization Geopy-distance and Nominatim.\n\nData are going to be searched in open information sources if out there, from land sites if hospitable reading, libraries or alternative government agencies like subway ny MTA, etc.\n\n#### 2.5 Mapping of Data\nThe following maps were created to facilitate the analysis and therefore the selection of the palace to measure. Manhattan map of Neighborhoods Manhattan subway subway locations, Manhattan map of places for rent. Manhattan map of clustered venues and neighborhoods. Combined maps of Manhattan rent places with subway locations Combined maps of Manhattan rent places with subway locations and venues clusters\n"
        },
        {
            "cell_type": "markdown",
            "metadata": {},
            "source": "\n## 3. Methodology section:\nThis section represents the main component of the report where the data is gathered, prepared for analysis. The tools described are used here and the Notebook cells indicates the execution of steps.\n\n#### The analysis and the stragegy:\nThe strategy is based on mapping the above described data in section 2.0, in order to facilitate the choice of at least two candidate places for rent. The choice is made based on the demands imposed : location near a subway, rental price and similar venues to Singapore. This visual approach and maps with popups labels allow quick identification of location, price and feature, thus making the selection very easy.\n\nThe procesing of these DATA and its mapping will allow to answer the key questions to make a decision:\n\n    > what is the cost of available rental places that meet the demands?\n    > what is the cost of rent around a mile radius from each subway metro station?\n    > what is the area of Manhattan with best rental pricing that meets criteria established?\n    > What is the distance from work place ( Park Ave and 53 rd St) and the tentative future            rental home?\n    > What are the venues of the two best places to live? How the prices compare?\n    > How venues distribute among Manhattan neighborhoods and around metro stations?\n    > Are there tradeoffs between size and price and location?\n    > Any other interesting statistical data findings of the real estate and overall data."
        },
        {
            "cell_type": "markdown",
            "metadata": {},
            "source": "## METHODOLOY EXECUTION - Mapping Data\n#### Singapore Map - Current residence and venues in neighborhood for comparison to future Manhattan renting place"
        },
        {
            "cell_type": "code",
            "execution_count": null,
            "metadata": {},
            "outputs": [],
            "source": "# Shenton Way, District 01, Singapore\naddress = 'Mccallum Street, Singapore'\ngeolocator = Nominatim()\nlocation = geolocator.geocode(address)\nlatitude = location.latitude\nlongitude = location.longitude\nprint('The geograpical coordinate of Singapore home are {}, {}.'.format(latitude, longitude))"
        },
        {
            "cell_type": "code",
            "execution_count": null,
            "metadata": {},
            "outputs": [],
            "source": "neighborhood_latitude=1.2792655\nneighborhood_longitude=103.8480938"
        },
        {
            "cell_type": "markdown",
            "metadata": {},
            "source": "### Dial FourSquare to find venues around current residence in Singapore"
        },
        {
            "cell_type": "code",
            "execution_count": null,
            "metadata": {},
            "outputs": [],
            "source": "CLIENT_ID = 'OCD1RWB5CJX1VWZMM2ZT0H4HX1BVLXQGFLTWPXPM0DY2GT50' # your Foursquare ID\nCLIENT_SECRET = 'ZJQQTSBKELPQY4ISJVEATHZQZKVZ3YQ42RQWWCBTG3J0KLED' # your Foursquare Secret\nVERSION = '20180605' # Foursquare API version"
        },
        {
            "cell_type": "code",
            "execution_count": null,
            "metadata": {},
            "outputs": [],
            "source": "LIMIT = 100 # limit of number of venues returned by Foursquare API\nradius = 500 # define radius\n# create URL\nurl = 'https://api.foursquare.com/v2/venues/explore?&client_id={}&client_secret={}&v={}&ll={},{}&radius={}&limit={}'.format(\n    CLIENT_ID, \n    CLIENT_SECRET, \n    VERSION, \n    neighborhood_latitude, \n    neighborhood_longitude, \n    radius, \n    LIMIT)\nurl # display URL"
        },
        {
            "cell_type": "code",
            "execution_count": null,
            "metadata": {},
            "outputs": [],
            "source": "# results display is hidden for report simplification \nresults = requests.get(url).json()\n#results"
        },
        {
            "cell_type": "markdown",
            "metadata": {},
            "source": "### function that extracts the category of the venue - borrow from the Foursquare lab."
        },
        {
            "cell_type": "code",
            "execution_count": null,
            "metadata": {},
            "outputs": [],
            "source": "def get_category_type(row):\n    try:\n        categories_list = row['categories']\n    except:\n        categories_list = row['venue.categories']\n        \n    if len(categories_list) == 0:\n        return None\n    else:\n        return categories_list[0]['name']"
        },
        {
            "cell_type": "code",
            "execution_count": null,
            "metadata": {},
            "outputs": [],
            "source": "venues = results['response']['groups'][0]['items']\nSGnearby_venues = json_normalize(venues) # flatten JSON\n# filter columns\nfiltered_columns = ['venue.name', 'venue.categories', 'venue.location.lat', 'venue.location.lng']\nSGnearby_venues =SGnearby_venues.loc[:, filtered_columns]\n# filter the category for each row\nSGnearby_venues['venue.categories'] = SGnearby_venues.apply(get_category_type, axis=1)\n# clean columns\nSGnearby_venues.columns = [col.split(\".\")[-1] for col in SGnearby_venues.columns]\n\nSGnearby_venues.shape"
        },
        {
            "cell_type": "code",
            "execution_count": null,
            "metadata": {},
            "outputs": [],
            "source": "# Venues near current Singapore residence place\nSGnearby_venues.head(10)"
        },
        {
            "cell_type": "markdown",
            "metadata": {},
            "source": "### Map of Singapore residence place with venues in Neighborhood - for reference"
        },
        {
            "cell_type": "code",
            "execution_count": null,
            "metadata": {},
            "outputs": [],
            "source": "latitude=1.2792655\nlongitude=103.8480938\n# create map of Singapore place  using latitude and longitude values\nmap_sg = folium.Map(location=[latitude, longitude], zoom_start=18)\n# add markers to map\nfor lat, lng, label in zip(SGnearby_venues['lat'], SGnearby_venues['lng'], SGnearby_venues['name']):\n    label = folium.Popup(label, parse_html=True)\n    folium.RegularPolygonMarker(\n        [lat, lng],\n        number_of_sides=30,\n        radius=7,\n        popup=label,\n        color='blue',\n        fill_color='#0f0f0f',\n        fill_opacity=0.6,\n    ).add_to(map_sg)  \n    \nmap_sg"
        },
        {
            "cell_type": "markdown",
            "metadata": {},
            "source": "### Manhattan Neighborhoods, Data and Mapping\n##### Cluster neighborhood data was produced with Foursquare during course lab work. A csv file was produced containing the neighborhoods around the 40 Boroughs. Now, the csv file is just read for convenience and consolidation of report."
        },
        {
            "cell_type": "code",
            "execution_count": null,
            "metadata": {},
            "outputs": [],
            "source": "# Read csv file with clustered neighborhoods with geodata\nmanhattan_data  = pd.read_csv('mh_neigh_data.csv') \nmanhattan_data.head()"
        },
        {
            "cell_type": "code",
            "execution_count": null,
            "metadata": {},
            "outputs": [],
            "source": "manhattan_data.tail()"
        },
        {
            "cell_type": "markdown",
            "metadata": {},
            "source": "### Manhattan Borough neighborhoods - data with top 10 clustered venues"
        },
        {
            "cell_type": "code",
            "execution_count": null,
            "metadata": {},
            "outputs": [],
            "source": "manhattan_merged = pd.read_csv('manhattan_merged.csv')\nmanhattan_merged.head()"
        },
        {
            "cell_type": "markdown",
            "metadata": {},
            "source": "### Map of Manhattan neighborhoods with top 10 clustered venues\n##### popus allow to identify each neighborhood and the cluster of venues around it in order to proceed to examine in more detail in the next cell"
        },
        {
            "cell_type": "code",
            "execution_count": null,
            "metadata": {},
            "outputs": [],
            "source": "# create map of Manhattan using latitude and longitude values from Nominatim\nlatitude= 40.7308619\nlongitude= -73.9871558 \n\nkclusters=5\nmap_clusters = folium.Map(location=[latitude, longitude], zoom_start=13)\n\n# set color scheme for the clusters\nx = np.arange(kclusters)\nys = [i+x+(i*x)**2 for i in range(kclusters)]\ncolors_array = cm.rainbow(np.linspace(0, 1, len(ys)))\nrainbow = [colors.rgb2hex(i) for i in colors_array]\n\n# add markers to the map\nmarkers_colors = []\nfor lat, lon, poi, cluster in zip(manhattan_merged['Latitude'], manhattan_merged['Longitude'], manhattan_merged['Neighborhood'], manhattan_merged['Cluster Labels']):\n    label = folium.Popup(str(poi) + ' Cluster ' + str(cluster), parse_html=True)\n    folium.CircleMarker(\n        [lat, lon],\n        radius=20,\n        popup=label,\n        color=rainbow[cluster-1],\n        fill=True,\n        fill_color=rainbow[cluster-1],\n        fill_opacity=0.7).add_to(map_clusters)\n  # add markers for rental places to map\nfor lat, lng, label in zip(manhattan_data['Latitude'], manhattan_data['Longitude'], manhattan_data['Neighborhood']):\n    label = folium.Popup(label, parse_html=True)\n    folium.CircleMarker(\n        [lat, lng],\n        radius=5,\n        popup=label,\n        color='blue',\n        fill=True,\n        fill_color='#3186cc',\n        fill_opacity=0.7,\n        parse_html=False).add_to(map_clusters)    \n    \n       \nmap_clusters"
        },
        {
            "cell_type": "markdown",
            "metadata": {},
            "source": "### Examine a paticular Cluster - print venues\n##### After examining several cluster data , I concluded that cluster # 2 resembles closer the Singapore place, therefore providing guidance as to where to look for the future apartment . Assign a value to 'kk' to explore a given cluster."
        },
        {
            "cell_type": "code",
            "execution_count": null,
            "metadata": {},
            "outputs": [],
            "source": "## kk is the cluster number to explore\nkk = 2\nmanhattan_merged.loc[manhattan_merged['Cluster Labels'] == kk, manhattan_merged.columns[[1] + list(range(5, manhattan_merged.shape[1]))]]"
        },
        {
            "cell_type": "markdown",
            "metadata": {},
            "source": "### Map of Manhattan places for rent\n##### Several Manhattan real estate webs were webscrapped to collect rental data, as mentioned in section 2.0 . The resut was summarized in a csv file for direct reading, in order to consolidate the proces.\n\n##### The initial data for 144 apartment did not have the latitude and longitude data (NaN) but the information was established in the following cell using an algorythm and Nominatim."
        },
        {
            "cell_type": "code",
            "execution_count": null,
            "metadata": {},
            "outputs": [],
            "source": "# csv files with rental places with basic data but still wihtout geodata ( latitude and longitude)\n# pd.read_csv(' le.csv', header=None, nrows=5)\nmh_rent=pd.read_csv('MH_flats_price.csv')\nmh_rent.head()"
        },
        {
            "cell_type": "code",
            "execution_count": null,
            "metadata": {},
            "outputs": [],
            "source": "mh_rent.tail()"
        },
        {
            "cell_type": "markdown",
            "metadata": {},
            "source": "### Obtain geodata ( lat,long) for each rental place in Manhattan with Nominatim\n##### Data was stored in a csv file for simplifaction report purposes and saving code processing time in future.\n\n##### This coding section was 'markedown' for the report because its execution takes few minutes . Terefore, the csv saved will be be just read directly in the following cell."
        },
        {
            "cell_type": "code",
            "execution_count": null,
            "metadata": {},
            "outputs": [],
            "source": "for n in range(len(mh_rent)):\naddress= mh_rent['Address'][n] address=(mh_rent['Address'][n]+ ' , '+' Manhattan NY ') geolocator = Nominatim() location = geolocator.geocode(address) latitude = location.latitude longitude = location.longitude mh_rent['Lat'][n]=latitude mh_rent['Long'][n]=longitude\n\n#print(n,latitude,longitude)\ntime.sleep(2)\n\nprint('Geodata completed')"
        },
        {
            "cell_type": "code",
            "execution_count": null,
            "metadata": {},
            "outputs": [],
            "source": "#save dataframe to csv file\nmh_rent.to_csv('MH_rent_latlong.csv',index=False) mh_rent.shape"
        },
        {
            "cell_type": "code",
            "execution_count": null,
            "metadata": {},
            "outputs": [],
            "source": "mh_rent=pd.read_csv('MH_rent_latlong.csv')\nmh_rent.head()"
        },
        {
            "cell_type": "code",
            "execution_count": null,
            "metadata": {},
            "outputs": [],
            "source": "mh_rent.tail()"
        },
        {
            "cell_type": "markdown",
            "metadata": {},
            "source": "### Manhattan apartment rent price statistics\n##### A US 7000 Dollar per month rent is actually around the mean value - similar to Singapore! wow!"
        },
        {
            "cell_type": "code",
            "execution_count": null,
            "metadata": {},
            "outputs": [],
            "source": "import seaborn as sns\nsns.distplot(mh_rent['Rent_Price'],bins=15)"
        },
        {
            "cell_type": "code",
            "execution_count": null,
            "metadata": {},
            "outputs": [],
            "source": "import seaborn as sns\nsns.distplot(mh_rent['Price_per_ft2'],bins=15)"
        },
        {
            "cell_type": "code",
            "execution_count": null,
            "metadata": {},
            "outputs": [],
            "source": "sns.boxplot(x='Rooms', y= 'Rent_Price', data=mh_rent)"
        },
        {
            "cell_type": "markdown",
            "metadata": {},
            "source": "### Map of Manhattan apartments for rent\n##### The popups will indicate the address and the monthly price for rent thus making it convenient to select the target appartment with the price condition estipulated (Max US7000)."
        },
        {
            "cell_type": "code",
            "execution_count": null,
            "metadata": {},
            "outputs": [],
            "source": "# create map of Manhattan using latitude and longitude values from Nominatim\nlatitude= 40.7308619\nlongitude= -73.9871558\n\nmap_manhattan_rent = folium.Map(location=[latitude, longitude], zoom_start=12.5)\n\n# add markers to map\nfor lat, lng, label in zip(mh_rent['Lat'], mh_rent['Long'],'$ ' + mh_rent['Rent_Price'].astype(str)+ ',  '+ mh_rent['Address']):      \n    label = folium.Popup(label, parse_html=True)\n    folium.CircleMarker(\n        [lat, lng],\n        radius=6,\n        popup=label,\n        color='blue',\n        fill=True,\n        fill_color='#3186cc',\n        fill_opacity=0.7,\n        parse_html=False).add_to(map_manhattan_rent) \n    \n\nmap_manhattan_rent"
        },
        {
            "cell_type": "markdown",
            "metadata": {},
            "source": "### Map of Manhattan showing the places for rent and the cluster of venues\n##### Now, one can point to a rental place for price and address location information while knowing the cluster venues around it.\n\n##### This is an insightful way to explore rental possibilites"
        },
        {
            "cell_type": "code",
            "execution_count": null,
            "metadata": {},
            "outputs": [],
            "source": "# create map of Manhattan using latitude and longitude values from Nominatim\nlatitude= 40.7308619\nlongitude= -73.9871558\n\n# create map with clusters\nkclusters=5\nmap_clusters2 = folium.Map(location=[latitude, longitude], zoom_start=13)\n\n# set color scheme for the clusters\nx = np.arange(kclusters)\nys = [i+x+(i*x)**2 for i in range(kclusters)]\ncolors_array = cm.rainbow(np.linspace(0, 1, len(ys)))\nrainbow = [colors.rgb2hex(i) for i in colors_array]\n\n# add markers to the map\nmarkers_colors = []\nfor lat, lon, poi, cluster in zip(manhattan_merged['Latitude'], manhattan_merged['Longitude'], manhattan_merged['Neighborhood'], manhattan_merged['Cluster Labels']):\n    label = folium.Popup(str(poi) + ' Cluster ' + str(cluster), parse_html=True)\n    folium.CircleMarker(\n        [lat, lon],\n        radius=20,\n        popup=label,\n        color=rainbow[cluster-1],\n        fill=True,\n        fill_color=rainbow[cluster-1],\n        fill_opacity=0.7).add_to(map_clusters2)\n\n# add markers to map for rental places\nfor lat, lng, label in zip(mh_rent['Lat'], mh_rent['Long'],'$ ' + mh_rent['Rent_Price'].astype(str)+ mh_rent['Address']):      \n    label = folium.Popup(label, parse_html=True)\n    folium.CircleMarker(\n        [lat, lng],\n        radius=6,\n        popup=label,\n        color='blue',\n        fill=True,\n        fill_color='#3186cc',\n        fill_opacity=0.7,\n        parse_html=False).add_to(map_clusters2)  \n    \n    # Adds tool to the top right\nfrom folium.plugins import MeasureControl\nmap_manhattan_rent.add_child(MeasureControl())\n\n# FMeasurement ruler icon to establish distnces on map\nfrom folium.plugins import FloatImage\nurl = ('https://media.licdn.com/mpr/mpr/shrinknp_100_100/AAEAAQAAAAAAAAlgAAAAJGE3OTA4YTdlLTkzZjUtNDFjYy1iZThlLWQ5OTNkYzlhNzM4OQ.jpg')\nFloatImage(url, bottom=5, left=85).add_to(map_manhattan_rent)\n\nmap_clusters2"
        },
        {
            "cell_type": "markdown",
            "metadata": {},
            "source": "### Now one can explore a particular rental place and its venues in detail\n##### In the map above, examination of appartments with rental place below 7000/month is straightforwad while knowing the venues around it.\n\n##### We could find an appartment with at the right price and in a location with desirable venues. The next step is to see if it is located near a subway metro station, in next cells work."
        },
        {
            "cell_type": "code",
            "execution_count": null,
            "metadata": {},
            "outputs": [],
            "source": "## kk is the cluster number to explore\nkk = 3\nmanhattan_merged.loc[manhattan_merged['Cluster Labels'] == kk, manhattan_merged.columns[[1] + list(range(5, manhattan_merged.shape[1]))]]"
        },
        {
            "cell_type": "markdown",
            "metadata": {},
            "source": "### Mapping Manhattan Subway locations\n##### Manhattan subway metro locations ( address) was obtained from webscrapping sites such as Wikipedia, Google and NY Metro Transit. For simplification, a csv file was produced from the 'numbers' (Apple excel ) so that the reading of this file is the starting point here\n\n##### The geodata will be obtain via Nominatim using the algorythm below."
        },
        {
            "cell_type": "code",
            "execution_count": null,
            "metadata": {},
            "outputs": [],
            "source": "# A csv file summarized the subway station and the addresses for next step to determine geodata\nmh=pd.read_csv('NYC_subway_list.csv')\nmh.head()"
        },
        {
            "cell_type": "markdown",
            "metadata": {},
            "source": "### Add colums labeled 'lat' and 'long' to be filled with geodata"
        },
        {
            "cell_type": "code",
            "execution_count": null,
            "metadata": {},
            "outputs": [],
            "source": "#  Add columns 'lat'  and 'long' to mh dataframe - with random temporary numbers to get started\nsLength = len(mh['sub_station'])\nlat = pd.Series(np.random.randn(sLength))\nlong=pd.Series(np.random.randn(sLength))\nmh = mh.assign(lat=lat.values)\nmh = mh.assign(long=long.values)"
        },
        {
            "cell_type": "markdown",
            "metadata": {},
            "source": "### Algorythm to find latitude and longitud for each subway metro station and add them to dataframe.\n##### This coding has been 'Markdown' just to simplify the file report, and the csv file will be read in cell below."
        },
        {
            "cell_type": "code",
            "execution_count": null,
            "metadata": {},
            "outputs": [],
            "source": "for n in range(len(mh)): address= mh['sub_address'][n] geolocator = Nominatim() location = geolocator.geocode(address) latitude = location.latitude longitude = location.longitude mh['lat'][n]=latitude mh['long'][n]=longitude\n\n#print(n,latitude,longitude)\ntime.sleep(2)\n\nprint('Geodata completed')\n\n#save dataframe to csv file\n\nmh.to_csv('MH_subway.csv',index=False) mh.shape"
        },
        {
            "cell_type": "markdown",
            "metadata": {},
            "source": "### Read csv file that produced the subway stations list with geodata"
        },
        {
            "cell_type": "code",
            "execution_count": null,
            "metadata": {},
            "outputs": [],
            "source": "mh=pd.read_csv('MH_subway.csv')\nprint(mh.shape)\nmh.head()"
        },
        {
            "cell_type": "code",
            "execution_count": null,
            "metadata": {},
            "outputs": [],
            "source": "# removing duplicate rows and creating new set mhsub1\nmhsub1=mh.drop_duplicates(subset=['lat','long'], keep=\"last\").reset_index(drop=True)\nmhsub1.shape"
        },
        {
            "cell_type": "code",
            "execution_count": null,
            "metadata": {},
            "outputs": [],
            "source": "mhsub1.tail()"
        },
        {
            "cell_type": "markdown",
            "metadata": {},
            "source": "## MAP of Manhattan showing the location of subway stations"
        },
        {
            "cell_type": "code",
            "execution_count": null,
            "metadata": {},
            "outputs": [],
            "source": "# map subway stations \n# create map of Manhattan using latitude and longitude values obtain previoulsy via Moninatim geolocator\nlatitude=40.7308619\nlongitude=-73.9871558\n\nmap_mhsub1 = folium.Map(location=[latitude, longitude], zoom_start=12)\n\n# add markers of subway locations to map\nfor lat, lng, label in zip(mhsub1['lat'], mhsub1['long'],  mhsub1['sub_station'].astype(str) ):\n    label = folium.Popup(label, parse_html=True)\n    folium.RegularPolygonMarker(\n        [lat, lng],\n        number_of_sides=6,\n        radius=6,\n        popup=label,\n        color='red',\n        fill_color='red',\n        fill_opacity=2.5,\n    ).add_to(map_mhsub1) \nmap_mhsub1"
        },
        {
            "cell_type": "markdown",
            "metadata": {},
            "source": "### Map of Manhattan showing places for rent and the subway locations nearby\n##### Now, we can visualize the desirable rental places and their nearest subway station. Popups display rental address and monthly rental price and the subway station name.\n\n#### Notice that the icon in the top-right corner is a \"ruler\" that allows to measure the distance from a rental place to an specific subway station."
        },
        {
            "cell_type": "code",
            "execution_count": null,
            "metadata": {},
            "outputs": [],
            "source": "mh_rent.head()"
        },
        {
            "cell_type": "code",
            "execution_count": null,
            "metadata": {},
            "outputs": [],
            "source": "# create map of Manhattan using latitude and longitude values from Nominatim\nlatitude= 40.7308619\nlongitude= -73.9871558\n\nmap_manhattan_rent = folium.Map(location=[latitude, longitude], zoom_start=13.3)\n\n# add markers to map\nfor lat, lng, label in zip(mh_rent['Lat'], mh_rent['Long'],'$ ' + mh_rent['Rent_Price'].astype(str)+ mh_rent['Address']):      \n    label = folium.Popup(label, parse_html=True)\n    folium.CircleMarker(\n        [lat, lng],\n        radius=6,\n        popup=label,\n        color='blue',\n        fill=True,\n        fill_color='#3186cc',\n        fill_opacity=0.7,\n        parse_html=False).add_to(map_manhattan_rent) \n    \n    # add markers of subway locations to map\nfor lat, lng, label in zip(mhsub1['lat'], mhsub1['long'],  mhsub1['sub_station'].astype(str) ):\n    label = folium.Popup(label, parse_html=True)\n    folium.RegularPolygonMarker(\n        [lat, lng],\n        number_of_sides=6,\n        radius=6,\n        popup=label,\n        color='red',\n        fill_color='red',\n        fill_opacity=2.5,\n    ).add_to(map_manhattan_rent) \n    \n    # Adds tool to the top right\nfrom folium.plugins import MeasureControl\nmap_manhattan_rent.add_child(MeasureControl())\n\n# Measurement ruler icon tool to measure distances in map\nfrom folium.plugins import FloatImage\nurl = ('https://media.licdn.com/mpr/mpr/shrinknp_100_100/AAEAAQAAAAAAAAlgAAAAJGE3OTA4YTdlLTkzZjUtNDFjYy1iZThlLWQ5OTNkYzlhNzM4OQ.jpg')\nFloatImage(url, bottom=5, left=85).add_to(map_manhattan_rent)\n\nmap_manhattan_rent"
        },
        {
            "cell_type": "markdown",
            "metadata": {},
            "source": "### 4.0 Results\n#### ONE CONSOLIDATE MAP\n\n##### Let's consolidate all the required inforamtion to make the apartment selection in one map\n\n### Map of Manhattan with rental places, subway locations and cluster of venues\n##### Red dots are Subway stations, Blue dots are apartments available for rent, Bubbles are the clusters of venues"
        },
        {
            "cell_type": "code",
            "execution_count": null,
            "metadata": {},
            "outputs": [],
            "source": "# create map of Manhattan using latitude and longitude values from Nominatim\nlatitude= 40.7308619\nlongitude= -73.9871558\n\nmap_mh_one = folium.Map(location=[latitude, longitude], zoom_start=13.3)\n\n# add markers to map\nfor lat, lng, label in zip(mh_rent['Lat'], mh_rent['Long'],'$ ' + mh_rent['Rent_Price'].astype(str)+ ', '+mh_rent['Address']):      \n    label = folium.Popup(label, parse_html=True)\n    folium.CircleMarker(\n        [lat, lng],\n        radius=6,\n        popup=label,\n        color='blue',\n        fill=True,\n        fill_color='#3186cc',\n        fill_opacity=0.7,\n        parse_html=False).add_to(map_mh_one) \n    \n    # add markers of subway locations to map\nfor lat, lng, label in zip(mhsub1['lat'], mhsub1['long'],  mhsub1['sub_station'].astype(str) ):\n    label = folium.Popup(label, parse_html=True)\n    folium.RegularPolygonMarker(\n        [lat, lng],\n        number_of_sides=6,\n        radius=6,\n        popup=label,\n        color='red',\n        fill_color='red',\n        fill_opacity=2.5,\n    ).add_to(map_mh_one) \n\n\n# set color scheme for the clusters\nkclusters=5\nx = np.arange(kclusters)\nys = [i+x+(i*x)**2 for i in range(kclusters)]\ncolors_array = cm.rainbow(np.linspace(0, 1, len(ys)))\nrainbow = [colors.rgb2hex(i) for i in colors_array]\n\n# add markers to the map\nmarkers_colors = []\nfor lat, lon, poi, cluster in zip(manhattan_merged['Latitude'], manhattan_merged['Longitude'], manhattan_merged['Neighborhood'], manhattan_merged['Cluster Labels']):\n    label = folium.Popup(str(poi) + ' Cluster ' + str(cluster), parse_html=True)\n    folium.CircleMarker(\n        [lat, lon],\n        radius=15,\n        popup=label,\n        color=rainbow[cluster-1],\n        fill=True,\n        fill_color=rainbow[cluster-1],\n        fill_opacity=0.7).add_to(map_mh_one)\n\n    # Adds tool to the top right\nfrom folium.plugins import MeasureControl\nmap_mh_one.add_child(MeasureControl())\n\n# Measurement ruler icon tool to measure distances in map\nfrom folium.plugins import FloatImage\nurl = ('https://media.licdn.com/mpr/mpr/shrinknp_100_100/AAEAAQAAAAAAAAlgAAAAJGE3OTA4YTdlLTkzZjUtNDFjYy1iZThlLWQ5OTNkYzlhNzM4OQ.jpg')\nFloatImage(url, bottom=5, left=85).add_to(map_mh_one)\n\nmap_mh_one"
        },
        {
            "cell_type": "markdown",
            "metadata": {},
            "source": "### Problem Resolution - Select the apartment for rent\n### The above consolidate map was used to explore options.\n##### After examining, I have chosen two locations that meet the requirements which will assess to make a choice.\n\n    > Apartment 1: 305 East 63rd Street in the Sutton Place Neighborhood and near \n      'subway 59th         Street' station, Cluster # 2 Monthly rent : 7500 Dollars\n\n    > Apartment 2: 19 Dutch Street in the Financial District Neighborhood and near 'Fulton               Street Subway' station, Cluster # 3 Monthly rent : 6935 Dollars\n\n#### Venues for Apartment 1 - Cluster 2"
        },
        {
            "cell_type": "code",
            "execution_count": null,
            "metadata": {},
            "outputs": [],
            "source": "## kk is the cluster number to explore\nkk = 2\nmanhattan_merged.loc[manhattan_merged['Cluster Labels'] == kk, manhattan_merged.columns[[1] + list(range(5, manhattan_merged.shape[1]))]]"
        },
        {
            "cell_type": "markdown",
            "metadata": {},
            "source": "### Venues for Apartment 2 - Cluster 3"
        },
        {
            "cell_type": "code",
            "execution_count": null,
            "metadata": {},
            "outputs": [],
            "source": "## kk is the cluster number to explore\nkk = 3\nmanhattan_merged.loc[manhattan_merged['Cluster Labels'] == kk, manhattan_merged.columns[[1] + list(range(5, manhattan_merged.shape[1]))]]"
        },
        {
            "cell_type": "markdown",
            "metadata": {},
            "source": "## Apartment Selection\n### Using the \"one map\" above, I was able to explore all possibilities since the popups provide the information needed for a good decision.\n#### Apartment 1 rent cost is US7500 slightly above the US7000 budget. Apt 1 is located 400 meters from subway station at 59th Street and work place ( Park Ave and 53rd) is another 600 meters way. I can walk to work place and use subway for other places aroung. Venues for this apt are as of Cluster 2 and it is located in a fine district in the East side of Manhattan.\n\n#### Apartment 2 rent cost is US6935, just under the US7000 budget. Apt 2 is located 60 meters from subway station at Fulton Street, but I will have to ride the subway daily to work , possibly 40-60 min ride. Venues for this apt are as of Cluster 3\n\n### Based on current Singapore venues, I feel that Cluster 2 type of venues is a closer resemblance to my current place. That means that apartment 1 is a better choice since the extra monthly rent is worth the conveniences it provides."
        },
        {
            "cell_type": "markdown",
            "metadata": {},
            "source": "# 5.0 DISCUSSION\n### In general, I am positively impressed with the overall organization, content and lab works presented during the Coursera IBM Certification Course\n\n### I feel this Capstone project presented me a great opportunity to practice and apply the Data Science tools and methodologies learned.\n\n### I have created a good project that I can present as an example to show my potential.\n\n### I feel I have acquired a good starting point to become a professional Data Scientist and I will continue exploring to creating examples of practical cases.\n\n# 6.0 CONCLUSIONS\n### I feel rewarded with the efforts, time and money spent. I believe this course with all the topics covered is well worthy of appreciation.\n\n### This project has shown me a practical application to resolve a real situation that has impacting personal and financial impact using Data Science tools.\n\n### The mapping with Folium is a very powerful technique to consolidate information and make the analysis and decision thoroughly and with confidence. I would recommend for use in similar situations.\n\n### One must keep abreast of new tools for DS that continue to appear for application in several business fields."
        },
        {
            "cell_type": "code",
            "execution_count": null,
            "metadata": {},
            "outputs": [],
            "source": ""
        }
    ],
    "metadata": {
        "kernelspec": {
            "display_name": "Python 3.6",
            "language": "python",
            "name": "python3"
        },
        "language_info": {
            "codemirror_mode": {
                "name": "ipython",
                "version": 3
            },
            "file_extension": ".py",
            "mimetype": "text/x-python",
            "name": "python",
            "nbconvert_exporter": "python",
            "pygments_lexer": "ipython3",
            "version": "3.6.9"
        }
    },
    "nbformat": 4,
    "nbformat_minor": 1
}